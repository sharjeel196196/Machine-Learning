{
 "cells": [
  {
   "cell_type": "code",
   "execution_count": 1,
   "id": "23fcbd96",
   "metadata": {},
   "outputs": [],
   "source": [
    "import pandas as pd\n",
    "import numpy as np"
   ]
  },
  {
   "cell_type": "code",
   "execution_count": 3,
   "id": "19e625a9",
   "metadata": {},
   "outputs": [],
   "source": [
    "dataset = pd.read_csv(r'C:\\Users\\Lenovo\\OneDrive\\Desktop\\energy_train_1d_dirty.csv' , ';')"
   ]
  },
  {
   "cell_type": "code",
   "execution_count": 5,
   "id": "08d7332f",
   "metadata": {},
   "outputs": [
    {
     "name": "stdout",
     "output_type": "stream",
     "text": [
      "<class 'pandas.core.frame.DataFrame'>\n",
      "Int64Index: 259200 entries, 0 to 501195\n",
      "Data columns (total 6 columns):\n",
      " #   Column     Non-Null Count   Dtype  \n",
      "---  ------     --------------   -----  \n",
      " 0   eqp_id     259200 non-null  int64  \n",
      " 1   value_max  259200 non-null  float64\n",
      " 2   value_avg  259200 non-null  float64\n",
      " 3   value_min  259200 non-null  float64\n",
      " 4   from_ts    259200 non-null  object \n",
      " 5   to_ts      259200 non-null  object \n",
      "dtypes: float64(3), int64(1), object(2)\n",
      "memory usage: 13.8+ MB\n"
     ]
    }
   ],
   "source": [
    "#Cleaning_df_energy\n",
    "dataset.drop_duplicates()\n",
    "\n",
    "#Dropping Null values\n",
    "dataset.dropna()\n",
    "\n",
    "#Eleminating negative values\n",
    "dataset = dataset[(dataset['value_max'] >= 0) & (dataset['value_avg'] >=0) & (dataset['value_min'] >=0)]\n",
    "dataset.info()"
   ]
  },
  {
   "cell_type": "code",
   "execution_count": null,
   "id": "b822174e",
   "metadata": {},
   "outputs": [],
   "source": []
  }
 ],
 "metadata": {
  "kernelspec": {
   "display_name": "Python 3",
   "language": "python",
   "name": "python3"
  },
  "language_info": {
   "codemirror_mode": {
    "name": "ipython",
    "version": 3
   },
   "file_extension": ".py",
   "mimetype": "text/x-python",
   "name": "python",
   "nbconvert_exporter": "python",
   "pygments_lexer": "ipython3",
   "version": "3.9.5"
  }
 },
 "nbformat": 4,
 "nbformat_minor": 5
}
